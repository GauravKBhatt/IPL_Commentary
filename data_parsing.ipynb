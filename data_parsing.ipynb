{
 "cells": [
  {
   "cell_type": "markdown",
   "id": "7ee6af9a",
   "metadata": {},
   "source": [
    "Importing the needed libraries *turns out requests is not in python standard library*"
   ]
  },
  {
   "cell_type": "code",
   "execution_count": 6,
   "id": "d3fcc3fb",
   "metadata": {},
   "outputs": [],
   "source": [
    "import requests\n",
    "from bs4 import BeautifulSoup\n",
    "import pandas as pd\n",
    "import os"
   ]
  }
 ],
 "metadata": {
  "kernelspec": {
   "display_name": ".venv",
   "language": "python",
   "name": "python3"
  },
  "language_info": {
   "codemirror_mode": {
    "name": "ipython",
    "version": 3
   },
   "file_extension": ".py",
   "mimetype": "text/x-python",
   "name": "python",
   "nbconvert_exporter": "python",
   "pygments_lexer": "ipython3",
   "version": "3.12.4"
  }
 },
 "nbformat": 4,
 "nbformat_minor": 5
}
