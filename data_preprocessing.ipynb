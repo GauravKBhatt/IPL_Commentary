{
 "cells": [
  {
   "cell_type": "markdown",
   "id": "a2a1fac7",
   "metadata": {},
   "source": [
    "Importing the module "
   ]
  },
  {
   "cell_type": "code",
   "execution_count": 1,
   "id": "44b075e2",
   "metadata": {},
   "outputs": [],
   "source": [
    "import pandas as pd"
   ]
  },
  {
   "cell_type": "markdown",
   "id": "5370f939",
   "metadata": {},
   "source": [
    "Loading the csv file"
   ]
  },
  {
   "cell_type": "code",
   "execution_count": 6,
   "id": "5f0eb5bc",
   "metadata": {},
   "outputs": [
    {
     "data": {
      "text/html": [
       "<div>\n",
       "<style scoped>\n",
       "    .dataframe tbody tr th:only-of-type {\n",
       "        vertical-align: middle;\n",
       "    }\n",
       "\n",
       "    .dataframe tbody tr th {\n",
       "        vertical-align: top;\n",
       "    }\n",
       "\n",
       "    .dataframe thead th {\n",
       "        text-align: right;\n",
       "    }\n",
       "</style>\n",
       "<table border=\"1\" class=\"dataframe\">\n",
       "  <thead>\n",
       "    <tr style=\"text-align: right;\">\n",
       "      <th></th>\n",
       "      <th>commentary</th>\n",
       "    </tr>\n",
       "  </thead>\n",
       "  <tbody>\n",
       "    <tr>\n",
       "      <th>0</th>\n",
       "      <td>Johnson to Livingstone, FOUR, emphatic win for...</td>\n",
       "    </tr>\n",
       "    <tr>\n",
       "      <th>1</th>\n",
       "      <td>Johnson to Livingstone, SIX, Livingstone is in...</td>\n",
       "    </tr>\n",
       "    <tr>\n",
       "      <th>2</th>\n",
       "      <td>Arora to Livingstone, 1 run, length delivery o...</td>\n",
       "    </tr>\n",
       "    <tr>\n",
       "      <th>3</th>\n",
       "      <td>Arora to Livingstone, no run, slower-ball on a...</td>\n",
       "    </tr>\n",
       "    <tr>\n",
       "      <th>4</th>\n",
       "      <td>Arora to Livingstone, FOUR, Livingstone is off...</td>\n",
       "    </tr>\n",
       "  </tbody>\n",
       "</table>\n",
       "</div>"
      ],
      "text/plain": [
       "                                          commentary\n",
       "0  Johnson to Livingstone, FOUR, emphatic win for...\n",
       "1  Johnson to Livingstone, SIX, Livingstone is in...\n",
       "2  Arora to Livingstone, 1 run, length delivery o...\n",
       "3  Arora to Livingstone, no run, slower-ball on a...\n",
       "4  Arora to Livingstone, FOUR, Livingstone is off..."
      ]
     },
     "execution_count": 6,
     "metadata": {},
     "output_type": "execute_result"
    }
   ],
   "source": [
    "commentary_df = pd.read_csv('rcb_commentary.csv')\n",
    "commentary_df.drop(columns=['match_id','teams','over','timestamp'],inplace=True)\n",
    "commentary_df.head()"
   ]
  },
  {
   "cell_type": "markdown",
   "id": "512041a1",
   "metadata": {},
   "source": [
    "Lowercasing"
   ]
  },
  {
   "cell_type": "code",
   "execution_count": 9,
   "id": "ec342546",
   "metadata": {},
   "outputs": [
    {
     "name": "stdout",
     "output_type": "stream",
     "text": [
      "1518\n"
     ]
    }
   ],
   "source": [
    "commentary_df['commentary']=commentary_df['commentary'].str.lower()\n",
    "print(commentary_df.size)"
   ]
  }
 ],
 "metadata": {
  "kernelspec": {
   "display_name": ".venv",
   "language": "python",
   "name": "python3"
  },
  "language_info": {
   "codemirror_mode": {
    "name": "ipython",
    "version": 3
   },
   "file_extension": ".py",
   "mimetype": "text/x-python",
   "name": "python",
   "nbconvert_exporter": "python",
   "pygments_lexer": "ipython3",
   "version": "3.12.4"
  }
 },
 "nbformat": 4,
 "nbformat_minor": 5
}
