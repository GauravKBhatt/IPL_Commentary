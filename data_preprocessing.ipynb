{
 "cells": [
  {
   "cell_type": "markdown",
   "id": "a2a1fac7",
   "metadata": {},
   "source": [
    "Importing the module "
   ]
  },
  {
   "cell_type": "code",
   "execution_count": null,
   "id": "44b075e2",
   "metadata": {},
   "outputs": [],
   "source": [
    "import pandas as pd\n",
    "import string \n",
    "import re\n",
    "from textblob import TextBlob"
   ]
  },
  {
   "cell_type": "markdown",
   "id": "5370f939",
   "metadata": {},
   "source": [
    "Loading the csv file"
   ]
  },
  {
   "cell_type": "code",
   "execution_count": 6,
   "id": "5f0eb5bc",
   "metadata": {},
   "outputs": [
    {
     "data": {
      "text/html": [
       "<div>\n",
       "<style scoped>\n",
       "    .dataframe tbody tr th:only-of-type {\n",
       "        vertical-align: middle;\n",
       "    }\n",
       "\n",
       "    .dataframe tbody tr th {\n",
       "        vertical-align: top;\n",
       "    }\n",
       "\n",
       "    .dataframe thead th {\n",
       "        text-align: right;\n",
       "    }\n",
       "</style>\n",
       "<table border=\"1\" class=\"dataframe\">\n",
       "  <thead>\n",
       "    <tr style=\"text-align: right;\">\n",
       "      <th></th>\n",
       "      <th>commentary</th>\n",
       "    </tr>\n",
       "  </thead>\n",
       "  <tbody>\n",
       "    <tr>\n",
       "      <th>0</th>\n",
       "      <td>Johnson to Livingstone, FOUR, emphatic win for...</td>\n",
       "    </tr>\n",
       "    <tr>\n",
       "      <th>1</th>\n",
       "      <td>Johnson to Livingstone, SIX, Livingstone is in...</td>\n",
       "    </tr>\n",
       "    <tr>\n",
       "      <th>2</th>\n",
       "      <td>Arora to Livingstone, 1 run, length delivery o...</td>\n",
       "    </tr>\n",
       "    <tr>\n",
       "      <th>3</th>\n",
       "      <td>Arora to Livingstone, no run, slower-ball on a...</td>\n",
       "    </tr>\n",
       "    <tr>\n",
       "      <th>4</th>\n",
       "      <td>Arora to Livingstone, FOUR, Livingstone is off...</td>\n",
       "    </tr>\n",
       "  </tbody>\n",
       "</table>\n",
       "</div>"
      ],
      "text/plain": [
       "                                          commentary\n",
       "0  Johnson to Livingstone, FOUR, emphatic win for...\n",
       "1  Johnson to Livingstone, SIX, Livingstone is in...\n",
       "2  Arora to Livingstone, 1 run, length delivery o...\n",
       "3  Arora to Livingstone, no run, slower-ball on a...\n",
       "4  Arora to Livingstone, FOUR, Livingstone is off..."
      ]
     },
     "execution_count": 6,
     "metadata": {},
     "output_type": "execute_result"
    }
   ],
   "source": [
    "commentary_df = pd.read_csv('rcb_commentary.csv')\n",
    "commentary_df.drop(columns=['match_id','teams','over','timestamp'],inplace=True)\n",
    "commentary_df.head()"
   ]
  },
  {
   "cell_type": "markdown",
   "id": "512041a1",
   "metadata": {},
   "source": [
    "Lowercasing"
   ]
  },
  {
   "cell_type": "code",
   "execution_count": 13,
   "id": "ec342546",
   "metadata": {},
   "outputs": [
    {
     "data": {
      "text/html": [
       "<div>\n",
       "<style scoped>\n",
       "    .dataframe tbody tr th:only-of-type {\n",
       "        vertical-align: middle;\n",
       "    }\n",
       "\n",
       "    .dataframe tbody tr th {\n",
       "        vertical-align: top;\n",
       "    }\n",
       "\n",
       "    .dataframe thead th {\n",
       "        text-align: right;\n",
       "    }\n",
       "</style>\n",
       "<table border=\"1\" class=\"dataframe\">\n",
       "  <thead>\n",
       "    <tr style=\"text-align: right;\">\n",
       "      <th></th>\n",
       "      <th>commentary</th>\n",
       "    </tr>\n",
       "  </thead>\n",
       "  <tbody>\n",
       "    <tr>\n",
       "      <th>0</th>\n",
       "      <td>johnson to livingstone, four, emphatic win for...</td>\n",
       "    </tr>\n",
       "    <tr>\n",
       "      <th>1</th>\n",
       "      <td>johnson to livingstone, six, livingstone is in...</td>\n",
       "    </tr>\n",
       "    <tr>\n",
       "      <th>2</th>\n",
       "      <td>arora to livingstone, 1 run, length delivery o...</td>\n",
       "    </tr>\n",
       "    <tr>\n",
       "      <th>3</th>\n",
       "      <td>arora to livingstone, no run, slower-ball on a...</td>\n",
       "    </tr>\n",
       "    <tr>\n",
       "      <th>4</th>\n",
       "      <td>arora to livingstone, four, livingstone is off...</td>\n",
       "    </tr>\n",
       "  </tbody>\n",
       "</table>\n",
       "</div>"
      ],
      "text/plain": [
       "                                          commentary\n",
       "0  johnson to livingstone, four, emphatic win for...\n",
       "1  johnson to livingstone, six, livingstone is in...\n",
       "2  arora to livingstone, 1 run, length delivery o...\n",
       "3  arora to livingstone, no run, slower-ball on a...\n",
       "4  arora to livingstone, four, livingstone is off..."
      ]
     },
     "execution_count": 13,
     "metadata": {},
     "output_type": "execute_result"
    }
   ],
   "source": [
    "commentary_df['commentary']=commentary_df['commentary'].str.lower()\n",
    "commentary_df.head()"
   ]
  },
  {
   "cell_type": "markdown",
   "id": "aa66f24c",
   "metadata": {},
   "source": [
    "REMOVE PUNCTUATION"
   ]
  },
  {
   "cell_type": "code",
   "execution_count": 14,
   "id": "5d0f044d",
   "metadata": {},
   "outputs": [
    {
     "data": {
      "text/html": [
       "<div>\n",
       "<style scoped>\n",
       "    .dataframe tbody tr th:only-of-type {\n",
       "        vertical-align: middle;\n",
       "    }\n",
       "\n",
       "    .dataframe tbody tr th {\n",
       "        vertical-align: top;\n",
       "    }\n",
       "\n",
       "    .dataframe thead th {\n",
       "        text-align: right;\n",
       "    }\n",
       "</style>\n",
       "<table border=\"1\" class=\"dataframe\">\n",
       "  <thead>\n",
       "    <tr style=\"text-align: right;\">\n",
       "      <th></th>\n",
       "      <th>commentary</th>\n",
       "    </tr>\n",
       "  </thead>\n",
       "  <tbody>\n",
       "    <tr>\n",
       "      <th>0</th>\n",
       "      <td>johnson to livingstone four emphatic win for r...</td>\n",
       "    </tr>\n",
       "    <tr>\n",
       "      <th>1</th>\n",
       "      <td>johnson to livingstone six livingstone is in a...</td>\n",
       "    </tr>\n",
       "    <tr>\n",
       "      <th>2</th>\n",
       "      <td>arora to livingstone 1 run length delivery out...</td>\n",
       "    </tr>\n",
       "    <tr>\n",
       "      <th>3</th>\n",
       "      <td>arora to livingstone no run slowerball on a le...</td>\n",
       "    </tr>\n",
       "    <tr>\n",
       "      <th>4</th>\n",
       "      <td>arora to livingstone four livingstone is off t...</td>\n",
       "    </tr>\n",
       "  </tbody>\n",
       "</table>\n",
       "</div>"
      ],
      "text/plain": [
       "                                          commentary\n",
       "0  johnson to livingstone four emphatic win for r...\n",
       "1  johnson to livingstone six livingstone is in a...\n",
       "2  arora to livingstone 1 run length delivery out...\n",
       "3  arora to livingstone no run slowerball on a le...\n",
       "4  arora to livingstone four livingstone is off t..."
      ]
     },
     "execution_count": 14,
     "metadata": {},
     "output_type": "execute_result"
    }
   ],
   "source": [
    "def remove_punctuation(text):\n",
    "    pattern = re.compile(f\"[{re.escape(string.punctuation)}]\")\n",
    "    return pattern.sub(r'',text)\n",
    "\n",
    "commentary_df['commentary'] = commentary_df['commentary'].apply(remove_punctuation)\n",
    "commentary_df.head()"
   ]
  },
  {
   "cell_type": "markdown",
   "id": "1f937927",
   "metadata": {},
   "source": [
    "SPELLING CORRECTION"
   ]
  },
  {
   "cell_type": "code",
   "execution_count": 15,
   "id": "6bc11b6d",
   "metadata": {},
   "outputs": [
    {
     "data": {
      "text/html": [
       "<div>\n",
       "<style scoped>\n",
       "    .dataframe tbody tr th:only-of-type {\n",
       "        vertical-align: middle;\n",
       "    }\n",
       "\n",
       "    .dataframe tbody tr th {\n",
       "        vertical-align: top;\n",
       "    }\n",
       "\n",
       "    .dataframe thead th {\n",
       "        text-align: right;\n",
       "    }\n",
       "</style>\n",
       "<table border=\"1\" class=\"dataframe\">\n",
       "  <thead>\n",
       "    <tr style=\"text-align: right;\">\n",
       "      <th></th>\n",
       "      <th>commentary</th>\n",
       "    </tr>\n",
       "  </thead>\n",
       "  <tbody>\n",
       "    <tr>\n",
       "      <th>0</th>\n",
       "      <td>johnson to livingston four emphatic win for ri...</td>\n",
       "    </tr>\n",
       "    <tr>\n",
       "      <th>1</th>\n",
       "      <td>johnson to livingston six livingston is in a m...</td>\n",
       "    </tr>\n",
       "    <tr>\n",
       "      <th>2</th>\n",
       "      <td>aroma to livingston 1 run length delivery outs...</td>\n",
       "    </tr>\n",
       "    <tr>\n",
       "      <th>3</th>\n",
       "      <td>aroma to livingston no run slowerball on a len...</td>\n",
       "    </tr>\n",
       "    <tr>\n",
       "      <th>4</th>\n",
       "      <td>aroma to livingston four livingston is off the...</td>\n",
       "    </tr>\n",
       "  </tbody>\n",
       "</table>\n",
       "</div>"
      ],
      "text/plain": [
       "                                          commentary\n",
       "0  johnson to livingston four emphatic win for ri...\n",
       "1  johnson to livingston six livingston is in a m...\n",
       "2  aroma to livingston 1 run length delivery outs...\n",
       "3  aroma to livingston no run slowerball on a len...\n",
       "4  aroma to livingston four livingston is off the..."
      ]
     },
     "execution_count": 15,
     "metadata": {},
     "output_type": "execute_result"
    }
   ],
   "source": [
    "from textblob import TextBlob \n",
    "\n",
    "def correct_spelling(text):\n",
    "    textBLB = TextBlob(text)\n",
    "    return textBLB.correct().string\n",
    "\n",
    "commentary_df['commentary'] = commentary_df['commentary'].apply(correct_spelling)\n",
    "commentary_df.head()"
   ]
  }
 ],
 "metadata": {
  "kernelspec": {
   "display_name": ".venv",
   "language": "python",
   "name": "python3"
  },
  "language_info": {
   "codemirror_mode": {
    "name": "ipython",
    "version": 3
   },
   "file_extension": ".py",
   "mimetype": "text/x-python",
   "name": "python",
   "nbconvert_exporter": "python",
   "pygments_lexer": "ipython3",
   "version": "3.12.4"
  }
 },
 "nbformat": 4,
 "nbformat_minor": 5
}
