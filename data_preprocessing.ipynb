{
 "cells": [
  {
   "cell_type": "markdown",
   "id": "a2a1fac7",
   "metadata": {},
   "source": [
    "Importing the module "
   ]
  },
  {
   "cell_type": "code",
   "execution_count": 2,
   "id": "44b075e2",
   "metadata": {},
   "outputs": [],
   "source": [
    "import pandas as pd\n",
    "import string \n",
    "import re\n",
    "from textblob import TextBlob\n",
    "import nltk\n",
    "from nltk.corpus import stopwords\n",
    "import spacy "
   ]
  },
  {
   "cell_type": "markdown",
   "id": "5370f939",
   "metadata": {},
   "source": [
    "Loading the csv file"
   ]
  },
  {
   "cell_type": "code",
   "execution_count": 3,
   "id": "5f0eb5bc",
   "metadata": {},
   "outputs": [
    {
     "data": {
      "text/html": [
       "<div>\n",
       "<style scoped>\n",
       "    .dataframe tbody tr th:only-of-type {\n",
       "        vertical-align: middle;\n",
       "    }\n",
       "\n",
       "    .dataframe tbody tr th {\n",
       "        vertical-align: top;\n",
       "    }\n",
       "\n",
       "    .dataframe thead th {\n",
       "        text-align: right;\n",
       "    }\n",
       "</style>\n",
       "<table border=\"1\" class=\"dataframe\">\n",
       "  <thead>\n",
       "    <tr style=\"text-align: right;\">\n",
       "      <th></th>\n",
       "      <th>commentary</th>\n",
       "    </tr>\n",
       "  </thead>\n",
       "  <tbody>\n",
       "    <tr>\n",
       "      <th>0</th>\n",
       "      <td>Johnson to Livingstone, FOUR, emphatic win for...</td>\n",
       "    </tr>\n",
       "    <tr>\n",
       "      <th>1</th>\n",
       "      <td>Johnson to Livingstone, SIX, Livingstone is in...</td>\n",
       "    </tr>\n",
       "    <tr>\n",
       "      <th>2</th>\n",
       "      <td>Arora to Livingstone, 1 run, length delivery o...</td>\n",
       "    </tr>\n",
       "    <tr>\n",
       "      <th>3</th>\n",
       "      <td>Arora to Livingstone, no run, slower-ball on a...</td>\n",
       "    </tr>\n",
       "    <tr>\n",
       "      <th>4</th>\n",
       "      <td>Arora to Livingstone, FOUR, Livingstone is off...</td>\n",
       "    </tr>\n",
       "  </tbody>\n",
       "</table>\n",
       "</div>"
      ],
      "text/plain": [
       "                                          commentary\n",
       "0  Johnson to Livingstone, FOUR, emphatic win for...\n",
       "1  Johnson to Livingstone, SIX, Livingstone is in...\n",
       "2  Arora to Livingstone, 1 run, length delivery o...\n",
       "3  Arora to Livingstone, no run, slower-ball on a...\n",
       "4  Arora to Livingstone, FOUR, Livingstone is off..."
      ]
     },
     "execution_count": 3,
     "metadata": {},
     "output_type": "execute_result"
    }
   ],
   "source": [
    "commentary_df = pd.read_csv('rcb_commentary.csv')\n",
    "commentary_df.drop(columns=['match_id','teams','over','timestamp'],inplace=True)\n",
    "commentary_df.head()"
   ]
  },
  {
   "cell_type": "markdown",
   "id": "512041a1",
   "metadata": {},
   "source": [
    "Lowercasing"
   ]
  },
  {
   "cell_type": "code",
   "execution_count": 4,
   "id": "ec342546",
   "metadata": {},
   "outputs": [
    {
     "data": {
      "text/html": [
       "<div>\n",
       "<style scoped>\n",
       "    .dataframe tbody tr th:only-of-type {\n",
       "        vertical-align: middle;\n",
       "    }\n",
       "\n",
       "    .dataframe tbody tr th {\n",
       "        vertical-align: top;\n",
       "    }\n",
       "\n",
       "    .dataframe thead th {\n",
       "        text-align: right;\n",
       "    }\n",
       "</style>\n",
       "<table border=\"1\" class=\"dataframe\">\n",
       "  <thead>\n",
       "    <tr style=\"text-align: right;\">\n",
       "      <th></th>\n",
       "      <th>commentary</th>\n",
       "    </tr>\n",
       "  </thead>\n",
       "  <tbody>\n",
       "    <tr>\n",
       "      <th>0</th>\n",
       "      <td>johnson to livingstone, four, emphatic win for...</td>\n",
       "    </tr>\n",
       "    <tr>\n",
       "      <th>1</th>\n",
       "      <td>johnson to livingstone, six, livingstone is in...</td>\n",
       "    </tr>\n",
       "    <tr>\n",
       "      <th>2</th>\n",
       "      <td>arora to livingstone, 1 run, length delivery o...</td>\n",
       "    </tr>\n",
       "    <tr>\n",
       "      <th>3</th>\n",
       "      <td>arora to livingstone, no run, slower-ball on a...</td>\n",
       "    </tr>\n",
       "    <tr>\n",
       "      <th>4</th>\n",
       "      <td>arora to livingstone, four, livingstone is off...</td>\n",
       "    </tr>\n",
       "  </tbody>\n",
       "</table>\n",
       "</div>"
      ],
      "text/plain": [
       "                                          commentary\n",
       "0  johnson to livingstone, four, emphatic win for...\n",
       "1  johnson to livingstone, six, livingstone is in...\n",
       "2  arora to livingstone, 1 run, length delivery o...\n",
       "3  arora to livingstone, no run, slower-ball on a...\n",
       "4  arora to livingstone, four, livingstone is off..."
      ]
     },
     "execution_count": 4,
     "metadata": {},
     "output_type": "execute_result"
    }
   ],
   "source": [
    "commentary_df['commentary']=commentary_df['commentary'].str.lower()\n",
    "commentary_df.head()"
   ]
  },
  {
   "cell_type": "markdown",
   "id": "aa66f24c",
   "metadata": {},
   "source": [
    "REMOVE PUNCTUATION"
   ]
  },
  {
   "cell_type": "code",
   "execution_count": 5,
   "id": "5d0f044d",
   "metadata": {},
   "outputs": [
    {
     "data": {
      "text/html": [
       "<div>\n",
       "<style scoped>\n",
       "    .dataframe tbody tr th:only-of-type {\n",
       "        vertical-align: middle;\n",
       "    }\n",
       "\n",
       "    .dataframe tbody tr th {\n",
       "        vertical-align: top;\n",
       "    }\n",
       "\n",
       "    .dataframe thead th {\n",
       "        text-align: right;\n",
       "    }\n",
       "</style>\n",
       "<table border=\"1\" class=\"dataframe\">\n",
       "  <thead>\n",
       "    <tr style=\"text-align: right;\">\n",
       "      <th></th>\n",
       "      <th>commentary</th>\n",
       "    </tr>\n",
       "  </thead>\n",
       "  <tbody>\n",
       "    <tr>\n",
       "      <th>0</th>\n",
       "      <td>johnson to livingstone four emphatic win for r...</td>\n",
       "    </tr>\n",
       "    <tr>\n",
       "      <th>1</th>\n",
       "      <td>johnson to livingstone six livingstone is in a...</td>\n",
       "    </tr>\n",
       "    <tr>\n",
       "      <th>2</th>\n",
       "      <td>arora to livingstone 1 run length delivery out...</td>\n",
       "    </tr>\n",
       "    <tr>\n",
       "      <th>3</th>\n",
       "      <td>arora to livingstone no run slowerball on a le...</td>\n",
       "    </tr>\n",
       "    <tr>\n",
       "      <th>4</th>\n",
       "      <td>arora to livingstone four livingstone is off t...</td>\n",
       "    </tr>\n",
       "  </tbody>\n",
       "</table>\n",
       "</div>"
      ],
      "text/plain": [
       "                                          commentary\n",
       "0  johnson to livingstone four emphatic win for r...\n",
       "1  johnson to livingstone six livingstone is in a...\n",
       "2  arora to livingstone 1 run length delivery out...\n",
       "3  arora to livingstone no run slowerball on a le...\n",
       "4  arora to livingstone four livingstone is off t..."
      ]
     },
     "execution_count": 5,
     "metadata": {},
     "output_type": "execute_result"
    }
   ],
   "source": [
    "def remove_punctuation(text):\n",
    "    pattern = re.compile(f\"[{re.escape(string.punctuation)}]\")\n",
    "    return pattern.sub(r'',text)\n",
    "\n",
    "commentary_df['commentary'] = commentary_df['commentary'].apply(remove_punctuation)\n",
    "commentary_df.head()"
   ]
  },
  {
   "cell_type": "markdown",
   "id": "1f937927",
   "metadata": {},
   "source": [
    "SPELLING CORRECTION (No need for spelling correction as it will just butcher the indian names )"
   ]
  },
  {
   "cell_type": "markdown",
   "id": "02036b41",
   "metadata": {},
   "source": [
    "REMOVING STOPWORDS"
   ]
  },
  {
   "cell_type": "code",
   "execution_count": 6,
   "id": "b0157b7e",
   "metadata": {},
   "outputs": [
    {
     "name": "stdout",
     "output_type": "stream",
     "text": [
      "Collecting en-core-web-sm==3.8.0\n",
      "  Downloading https://github.com/explosion/spacy-models/releases/download/en_core_web_sm-3.8.0/en_core_web_sm-3.8.0-py3-none-any.whl (12.8 MB)\n",
      "     ---------------------------------------- 0.0/12.8 MB ? eta -:--:--\n",
      "     ---------------------------------------- 0.0/12.8 MB ? eta -:--:--\n",
      "      --------------------------------------- 0.3/12.8 MB ? eta -:--:--\n",
      "      --------------------------------------- 0.3/12.8 MB ? eta -:--:--\n",
      "     - ------------------------------------- 0.5/12.8 MB 644.1 kB/s eta 0:00:20\n",
      "     - ------------------------------------- 0.5/12.8 MB 644.1 kB/s eta 0:00:20\n",
      "     - ------------------------------------- 0.5/12.8 MB 644.1 kB/s eta 0:00:20\n",
      "     --- ----------------------------------- 1.0/12.8 MB 774.0 kB/s eta 0:00:16\n",
      "     --- ----------------------------------- 1.0/12.8 MB 774.0 kB/s eta 0:00:16\n",
      "     --- ----------------------------------- 1.3/12.8 MB 789.0 kB/s eta 0:00:15\n",
      "     --- ----------------------------------- 1.3/12.8 MB 789.0 kB/s eta 0:00:15\n",
      "     ---- ---------------------------------- 1.6/12.8 MB 716.6 kB/s eta 0:00:16\n",
      "     ----- --------------------------------- 1.8/12.8 MB 780.2 kB/s eta 0:00:15\n",
      "     ------ -------------------------------- 2.1/12.8 MB 815.6 kB/s eta 0:00:14\n",
      "     ------- ------------------------------- 2.4/12.8 MB 860.2 kB/s eta 0:00:13\n",
      "     ------- ------------------------------- 2.6/12.8 MB 898.8 kB/s eta 0:00:12\n",
      "     -------- ------------------------------ 2.9/12.8 MB 942.3 kB/s eta 0:00:11\n",
      "     ---------- ----------------------------- 3.4/12.8 MB 1.0 MB/s eta 0:00:10\n",
      "     ------------ --------------------------- 3.9/12.8 MB 1.1 MB/s eta 0:00:08\n",
      "     ------------- -------------------------- 4.5/12.8 MB 1.2 MB/s eta 0:00:07\n",
      "     ---------------- ----------------------- 5.2/12.8 MB 1.3 MB/s eta 0:00:06\n",
      "     ------------------ --------------------- 6.0/12.8 MB 1.5 MB/s eta 0:00:05\n",
      "     --------------------- ------------------ 6.8/12.8 MB 1.6 MB/s eta 0:00:04\n",
      "     ------------------------ --------------- 7.9/12.8 MB 1.8 MB/s eta 0:00:03\n",
      "     ---------------------------- ----------- 9.2/12.8 MB 2.0 MB/s eta 0:00:02\n",
      "     -------------------------------- ------- 10.5/12.8 MB 2.2 MB/s eta 0:00:02\n",
      "     ------------------------------------- -- 12.1/12.8 MB 2.4 MB/s eta 0:00:01\n",
      "     ---------------------------------------  12.6/12.8 MB 2.5 MB/s eta 0:00:01\n",
      "     ---------------------------------------- 12.8/12.8 MB 2.4 MB/s eta 0:00:00\n",
      "\u001b[38;5;2m✔ Download and installation successful\u001b[0m\n",
      "You can now load the package via spacy.load('en_core_web_sm')\n"
     ]
    }
   ],
   "source": [
    "!python -m spacy download en_core_web_sm"
   ]
  },
  {
   "cell_type": "code",
   "execution_count": 7,
   "id": "500869b2",
   "metadata": {},
   "outputs": [
    {
     "data": {
      "text/html": [
       "<div>\n",
       "<style scoped>\n",
       "    .dataframe tbody tr th:only-of-type {\n",
       "        vertical-align: middle;\n",
       "    }\n",
       "\n",
       "    .dataframe tbody tr th {\n",
       "        vertical-align: top;\n",
       "    }\n",
       "\n",
       "    .dataframe thead th {\n",
       "        text-align: right;\n",
       "    }\n",
       "</style>\n",
       "<table border=\"1\" class=\"dataframe\">\n",
       "  <thead>\n",
       "    <tr style=\"text-align: right;\">\n",
       "      <th></th>\n",
       "      <th>commentary</th>\n",
       "    </tr>\n",
       "  </thead>\n",
       "  <tbody>\n",
       "    <tr>\n",
       "      <th>0</th>\n",
       "      <td>johnson livingstone emphatic win rcb hammered ...</td>\n",
       "    </tr>\n",
       "    <tr>\n",
       "      <th>1</th>\n",
       "      <td>johnson livingstone livingstone mood kill game...</td>\n",
       "    </tr>\n",
       "    <tr>\n",
       "      <th>2</th>\n",
       "      <td>arora livingstone 1 run length delivery outsid...</td>\n",
       "    </tr>\n",
       "    <tr>\n",
       "      <th>3</th>\n",
       "      <td>arora livingstone run slowerball length outsid...</td>\n",
       "    </tr>\n",
       "    <tr>\n",
       "      <th>4</th>\n",
       "      <td>arora livingstone livingstone mark boundary sp...</td>\n",
       "    </tr>\n",
       "  </tbody>\n",
       "</table>\n",
       "</div>"
      ],
      "text/plain": [
       "                                          commentary\n",
       "0  johnson livingstone emphatic win rcb hammered ...\n",
       "1  johnson livingstone livingstone mood kill game...\n",
       "2  arora livingstone 1 run length delivery outsid...\n",
       "3  arora livingstone run slowerball length outsid...\n",
       "4  arora livingstone livingstone mark boundary sp..."
      ]
     },
     "execution_count": 7,
     "metadata": {},
     "output_type": "execute_result"
    }
   ],
   "source": [
    "nlp = spacy.load(\"en_core_web_sm\")\n",
    "\n",
    "def removing_stopwords(text):\n",
    "    doc = nlp(text)\n",
    "    filtered_tokens = [token.text for token in doc if not token.is_stop and not token.is_punct]\n",
    "    return \" \".join(filtered_tokens)\n",
    "\n",
    "commentary_df['commentary']=commentary_df['commentary'].apply(removing_stopwords)\n",
    "commentary_df.head()"
   ]
  },
  {
   "cell_type": "markdown",
   "id": "5610e1aa",
   "metadata": {},
   "source": [
    "STEMMING"
   ]
  },
  {
   "cell_type": "code",
   "execution_count": 10,
   "id": "0f57dccb",
   "metadata": {},
   "outputs": [
    {
     "data": {
      "text/html": [
       "<div>\n",
       "<style scoped>\n",
       "    .dataframe tbody tr th:only-of-type {\n",
       "        vertical-align: middle;\n",
       "    }\n",
       "\n",
       "    .dataframe tbody tr th {\n",
       "        vertical-align: top;\n",
       "    }\n",
       "\n",
       "    .dataframe thead th {\n",
       "        text-align: right;\n",
       "    }\n",
       "</style>\n",
       "<table border=\"1\" class=\"dataframe\">\n",
       "  <thead>\n",
       "    <tr style=\"text-align: right;\">\n",
       "      <th></th>\n",
       "      <th>commentary</th>\n",
       "    </tr>\n",
       "  </thead>\n",
       "  <tbody>\n",
       "    <tr>\n",
       "      <th>0</th>\n",
       "      <td>johnson livingston emphat win rcb hammer kkr d...</td>\n",
       "    </tr>\n",
       "    <tr>\n",
       "      <th>1</th>\n",
       "      <td>johnson livingston livingston mood kill game i...</td>\n",
       "    </tr>\n",
       "    <tr>\n",
       "      <th>2</th>\n",
       "      <td>arora livingston 1 run length deliveri outsid ...</td>\n",
       "    </tr>\n",
       "    <tr>\n",
       "      <th>3</th>\n",
       "      <td>arora livingston run slowerb length outsid liv...</td>\n",
       "    </tr>\n",
       "    <tr>\n",
       "      <th>4</th>\n",
       "      <td>arora livingston livingston mark boundari spor...</td>\n",
       "    </tr>\n",
       "  </tbody>\n",
       "</table>\n",
       "</div>"
      ],
      "text/plain": [
       "                                          commentary\n",
       "0  johnson livingston emphat win rcb hammer kkr d...\n",
       "1  johnson livingston livingston mood kill game i...\n",
       "2  arora livingston 1 run length deliveri outsid ...\n",
       "3  arora livingston run slowerb length outsid liv...\n",
       "4  arora livingston livingston mark boundari spor..."
      ]
     },
     "execution_count": 10,
     "metadata": {},
     "output_type": "execute_result"
    }
   ],
   "source": [
    "from nltk.stem import PorterStemmer\n",
    "\n",
    "stemmer = PorterStemmer()\n",
    "nlp = spacy.load('en_core_web_sm')\n",
    "\n",
    "def apply_stemming(text):\n",
    "    \n",
    "    tokenize_value = nlp(text)\n",
    "    \n",
    "    stemmed_words =  [stemmer.stem(token.text) for token in tokenize_value]\n",
    "    stemmed_text = ' '.join(stemmed_words)\n",
    "    return stemmed_text\n",
    "\n",
    "commentary_df['commentary'] = commentary_df['commentary'].apply(apply_stemming)\n",
    "commentary_df.head()"
   ]
  },
  {
   "cell_type": "markdown",
   "id": "ca2c91ff",
   "metadata": {},
   "source": [
    "LEMMATIZATION"
   ]
  },
  {
   "cell_type": "code",
   "execution_count": 11,
   "id": "1469875c",
   "metadata": {},
   "outputs": [
    {
     "data": {
      "text/html": [
       "<div>\n",
       "<style scoped>\n",
       "    .dataframe tbody tr th:only-of-type {\n",
       "        vertical-align: middle;\n",
       "    }\n",
       "\n",
       "    .dataframe tbody tr th {\n",
       "        vertical-align: top;\n",
       "    }\n",
       "\n",
       "    .dataframe thead th {\n",
       "        text-align: right;\n",
       "    }\n",
       "</style>\n",
       "<table border=\"1\" class=\"dataframe\">\n",
       "  <thead>\n",
       "    <tr style=\"text-align: right;\">\n",
       "      <th></th>\n",
       "      <th>commentary</th>\n",
       "    </tr>\n",
       "  </thead>\n",
       "  <tbody>\n",
       "    <tr>\n",
       "      <th>0</th>\n",
       "      <td>johnson livingston emphat win rcb hammer kkr d...</td>\n",
       "    </tr>\n",
       "    <tr>\n",
       "      <th>1</th>\n",
       "      <td>johnson livingston livingston mood kill game i...</td>\n",
       "    </tr>\n",
       "    <tr>\n",
       "      <th>2</th>\n",
       "      <td>arora livingston 1 run length deliveri outsid ...</td>\n",
       "    </tr>\n",
       "    <tr>\n",
       "      <th>3</th>\n",
       "      <td>arora livingston run slowerb length outsid liv...</td>\n",
       "    </tr>\n",
       "    <tr>\n",
       "      <th>4</th>\n",
       "      <td>arora livingston livingston mark boundari spor...</td>\n",
       "    </tr>\n",
       "  </tbody>\n",
       "</table>\n",
       "</div>"
      ],
      "text/plain": [
       "                                          commentary\n",
       "0  johnson livingston emphat win rcb hammer kkr d...\n",
       "1  johnson livingston livingston mood kill game i...\n",
       "2  arora livingston 1 run length deliveri outsid ...\n",
       "3  arora livingston run slowerb length outsid liv...\n",
       "4  arora livingston livingston mark boundari spor..."
      ]
     },
     "execution_count": 11,
     "metadata": {},
     "output_type": "execute_result"
    }
   ],
   "source": [
    "nlp = spacy.load(\"en_core_web_sm\")\n",
    "\n",
    "def lemmatize_text(text):\n",
    "    doc = nlp(text)\n",
    "    lemmas = [token.lemma_ for token in doc if not token.is_punct and not token.is_space ]\n",
    "    return \" \".join(lemmas)\n",
    "\n",
    "commentary_df['commentary'] = commentary_df['commentary'].apply(lemmatize_text)\n",
    "commentary_df.head()"
   ]
  },
  {
   "cell_type": "markdown",
   "id": "a1f83b6b",
   "metadata": {},
   "source": [
    "Explicitly stating all the batters name as NER is not very effective in this scenario. "
   ]
  },
  {
   "cell_type": "code",
   "execution_count": 12,
   "id": "b5c5e7e2",
   "metadata": {},
   "outputs": [],
   "source": [
    "rcb_batters_2025 = [\n",
    "    \"virat kohli\",\n",
    "    \"rajat patidar\",\n",
    "    \"phil salt\",\n",
    "    \"jitesh sharma\",\n",
    "    \"mayank agarwal\",\n",
    "    \"tim david\",\n",
    "    \"jacob bethell\",\n",
    "    \"devdutt padikkal\",\n",
    "    \"liam livingstone\",\n",
    "    \"krunal pandya\",\n",
    "    \"romario shepherd\"\n",
    "]\n"
   ]
  },
  {
   "cell_type": "markdown",
   "id": "c6991d1f",
   "metadata": {},
   "source": [
    "Lookup Based Approach "
   ]
  },
  {
   "cell_type": "code",
   "execution_count": 13,
   "id": "ea99da63",
   "metadata": {},
   "outputs": [],
   "source": [
    "from spacy.matcher import PhraseMatcher\n",
    "\n",
    "# Create patterns for PhraseMatcher\n",
    "patterns = [nlp.make_doc(name) for name in rcb_batters_2025]\n",
    "matcher = PhraseMatcher(nlp.vocab, attr=\"LOWER\")\n",
    "matcher.add(\"RCB_BATTERS\", patterns)\n"
   ]
  },
  {
   "cell_type": "markdown",
   "id": "bc73c172",
   "metadata": {},
   "source": [
    "Matching the created patterns "
   ]
  },
  {
   "cell_type": "code",
   "execution_count": 14,
   "id": "34f9cb4f",
   "metadata": {},
   "outputs": [],
   "source": [
    "def match_batters(text):\n",
    "    doc = nlp(text)\n",
    "    matches = matcher(doc)\n",
    "    return [doc[start:end].text for match_id, start, end in matches]\n",
    "\n",
    "commentary_df['commentary']=commentary_df['commentary'].apply(match_batters)"
   ]
  }
 ],
 "metadata": {
  "kernelspec": {
   "display_name": ".venv",
   "language": "python",
   "name": "python3"
  },
  "language_info": {
   "codemirror_mode": {
    "name": "ipython",
    "version": 3
   },
   "file_extension": ".py",
   "mimetype": "text/x-python",
   "name": "python",
   "nbconvert_exporter": "python",
   "pygments_lexer": "ipython3",
   "version": "3.12.4"
  }
 },
 "nbformat": 4,
 "nbformat_minor": 5
}
